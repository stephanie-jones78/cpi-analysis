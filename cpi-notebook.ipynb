{
 "cells": [
  {
   "cell_type": "markdown",
   "id": "d29a115c",
   "metadata": {},
   "source": [
    "# U.S. Consumer Price Index Analysis\n",
    "Data from [Kaggle](https://www.kaggle.com/datasets/varpit94/us-inflation-data-updated-till-may-2021?select=US+CPI.csv)"
   ]
  },
  {
   "cell_type": "code",
   "execution_count": 1,
   "id": "fe4349b9",
   "metadata": {},
   "outputs": [],
   "source": [
    "import pandas as pd"
   ]
  },
  {
   "cell_type": "code",
   "execution_count": 2,
   "id": "b0d126b2",
   "metadata": {},
   "outputs": [
    {
     "data": {
      "text/html": [
       "<div>\n",
       "<style scoped>\n",
       "    .dataframe tbody tr th:only-of-type {\n",
       "        vertical-align: middle;\n",
       "    }\n",
       "\n",
       "    .dataframe tbody tr th {\n",
       "        vertical-align: top;\n",
       "    }\n",
       "\n",
       "    .dataframe thead th {\n",
       "        text-align: right;\n",
       "    }\n",
       "</style>\n",
       "<table border=\"1\" class=\"dataframe\">\n",
       "  <thead>\n",
       "    <tr style=\"text-align: right;\">\n",
       "      <th></th>\n",
       "      <th>Yearmon</th>\n",
       "      <th>CPI</th>\n",
       "    </tr>\n",
       "  </thead>\n",
       "  <tbody>\n",
       "    <tr>\n",
       "      <th>0</th>\n",
       "      <td>01-01-1913</td>\n",
       "      <td>9.800</td>\n",
       "    </tr>\n",
       "    <tr>\n",
       "      <th>1</th>\n",
       "      <td>01-02-1913</td>\n",
       "      <td>9.800</td>\n",
       "    </tr>\n",
       "    <tr>\n",
       "      <th>2</th>\n",
       "      <td>01-03-1913</td>\n",
       "      <td>9.800</td>\n",
       "    </tr>\n",
       "    <tr>\n",
       "      <th>3</th>\n",
       "      <td>01-04-1913</td>\n",
       "      <td>9.800</td>\n",
       "    </tr>\n",
       "    <tr>\n",
       "      <th>4</th>\n",
       "      <td>01-05-1913</td>\n",
       "      <td>9.700</td>\n",
       "    </tr>\n",
       "    <tr>\n",
       "      <th>...</th>\n",
       "      <td>...</td>\n",
       "      <td>...</td>\n",
       "    </tr>\n",
       "    <tr>\n",
       "      <th>1298</th>\n",
       "      <td>01-03-2021</td>\n",
       "      <td>264.877</td>\n",
       "    </tr>\n",
       "    <tr>\n",
       "      <th>1299</th>\n",
       "      <td>01-04-2021</td>\n",
       "      <td>267.054</td>\n",
       "    </tr>\n",
       "    <tr>\n",
       "      <th>1300</th>\n",
       "      <td>01-05-2021</td>\n",
       "      <td>269.195</td>\n",
       "    </tr>\n",
       "    <tr>\n",
       "      <th>1301</th>\n",
       "      <td>01-06-2021</td>\n",
       "      <td>271.696</td>\n",
       "    </tr>\n",
       "    <tr>\n",
       "      <th>1302</th>\n",
       "      <td>01-07-2021</td>\n",
       "      <td>273.003</td>\n",
       "    </tr>\n",
       "  </tbody>\n",
       "</table>\n",
       "<p>1303 rows × 2 columns</p>\n",
       "</div>"
      ],
      "text/plain": [
       "         Yearmon      CPI\n",
       "0     01-01-1913    9.800\n",
       "1     01-02-1913    9.800\n",
       "2     01-03-1913    9.800\n",
       "3     01-04-1913    9.800\n",
       "4     01-05-1913    9.700\n",
       "...          ...      ...\n",
       "1298  01-03-2021  264.877\n",
       "1299  01-04-2021  267.054\n",
       "1300  01-05-2021  269.195\n",
       "1301  01-06-2021  271.696\n",
       "1302  01-07-2021  273.003\n",
       "\n",
       "[1303 rows x 2 columns]"
      ]
     },
     "execution_count": 2,
     "metadata": {},
     "output_type": "execute_result"
    }
   ],
   "source": [
    "# reading in csv file\n",
    "df = pd.read_csv('data/cpi-data.csv')\n",
    "df"
   ]
  },
  {
   "cell_type": "code",
   "execution_count": 3,
   "id": "2df5a21b",
   "metadata": {},
   "outputs": [
    {
     "data": {
      "text/html": [
       "<div>\n",
       "<style scoped>\n",
       "    .dataframe tbody tr th:only-of-type {\n",
       "        vertical-align: middle;\n",
       "    }\n",
       "\n",
       "    .dataframe tbody tr th {\n",
       "        vertical-align: top;\n",
       "    }\n",
       "\n",
       "    .dataframe thead th {\n",
       "        text-align: right;\n",
       "    }\n",
       "</style>\n",
       "<table border=\"1\" class=\"dataframe\">\n",
       "  <thead>\n",
       "    <tr style=\"text-align: right;\">\n",
       "      <th></th>\n",
       "      <th>date</th>\n",
       "      <th>cpi</th>\n",
       "    </tr>\n",
       "  </thead>\n",
       "  <tbody>\n",
       "    <tr>\n",
       "      <th>0</th>\n",
       "      <td>01-01-1913</td>\n",
       "      <td>9.800</td>\n",
       "    </tr>\n",
       "    <tr>\n",
       "      <th>1</th>\n",
       "      <td>01-02-1913</td>\n",
       "      <td>9.800</td>\n",
       "    </tr>\n",
       "    <tr>\n",
       "      <th>2</th>\n",
       "      <td>01-03-1913</td>\n",
       "      <td>9.800</td>\n",
       "    </tr>\n",
       "    <tr>\n",
       "      <th>3</th>\n",
       "      <td>01-04-1913</td>\n",
       "      <td>9.800</td>\n",
       "    </tr>\n",
       "    <tr>\n",
       "      <th>4</th>\n",
       "      <td>01-05-1913</td>\n",
       "      <td>9.700</td>\n",
       "    </tr>\n",
       "    <tr>\n",
       "      <th>...</th>\n",
       "      <td>...</td>\n",
       "      <td>...</td>\n",
       "    </tr>\n",
       "    <tr>\n",
       "      <th>1298</th>\n",
       "      <td>01-03-2021</td>\n",
       "      <td>264.877</td>\n",
       "    </tr>\n",
       "    <tr>\n",
       "      <th>1299</th>\n",
       "      <td>01-04-2021</td>\n",
       "      <td>267.054</td>\n",
       "    </tr>\n",
       "    <tr>\n",
       "      <th>1300</th>\n",
       "      <td>01-05-2021</td>\n",
       "      <td>269.195</td>\n",
       "    </tr>\n",
       "    <tr>\n",
       "      <th>1301</th>\n",
       "      <td>01-06-2021</td>\n",
       "      <td>271.696</td>\n",
       "    </tr>\n",
       "    <tr>\n",
       "      <th>1302</th>\n",
       "      <td>01-07-2021</td>\n",
       "      <td>273.003</td>\n",
       "    </tr>\n",
       "  </tbody>\n",
       "</table>\n",
       "<p>1303 rows × 2 columns</p>\n",
       "</div>"
      ],
      "text/plain": [
       "            date      cpi\n",
       "0     01-01-1913    9.800\n",
       "1     01-02-1913    9.800\n",
       "2     01-03-1913    9.800\n",
       "3     01-04-1913    9.800\n",
       "4     01-05-1913    9.700\n",
       "...          ...      ...\n",
       "1298  01-03-2021  264.877\n",
       "1299  01-04-2021  267.054\n",
       "1300  01-05-2021  269.195\n",
       "1301  01-06-2021  271.696\n",
       "1302  01-07-2021  273.003\n",
       "\n",
       "[1303 rows x 2 columns]"
      ]
     },
     "execution_count": 3,
     "metadata": {},
     "output_type": "execute_result"
    }
   ],
   "source": [
    "# renaming columns and formatting\n",
    "df.rename(columns = {'Yearmon': 'date', 'CPI':'cpi'}, inplace = True)\n",
    "\n",
    "df"
   ]
  },
  {
   "cell_type": "code",
   "execution_count": 6,
   "id": "e7701053",
   "metadata": {},
   "outputs": [
    {
     "data": {
      "text/plain": [
       "(1303, 2)"
      ]
     },
     "execution_count": 6,
     "metadata": {},
     "output_type": "execute_result"
    }
   ],
   "source": [
    "# quality checking data\n",
    "df.shape"
   ]
  },
  {
   "cell_type": "code",
   "execution_count": 7,
   "id": "299626dc",
   "metadata": {},
   "outputs": [
    {
     "name": "stdout",
     "output_type": "stream",
     "text": [
      "<class 'pandas.core.frame.DataFrame'>\n",
      "RangeIndex: 1303 entries, 0 to 1302\n",
      "Data columns (total 2 columns):\n",
      " #   Column  Non-Null Count  Dtype  \n",
      "---  ------  --------------  -----  \n",
      " 0   date    1303 non-null   object \n",
      " 1   cpi     1303 non-null   float64\n",
      "dtypes: float64(1), object(1)\n",
      "memory usage: 20.5+ KB\n"
     ]
    }
   ],
   "source": [
    "df.info()"
   ]
  },
  {
   "cell_type": "code",
   "execution_count": 50,
   "id": "8dc25db1",
   "metadata": {},
   "outputs": [],
   "source": [
    "import matplotlib.pyplot as plt\n",
    "import seaborn as sns\n",
    "\n",
    "sns.set_style(\"whitegrid\")"
   ]
  },
  {
   "cell_type": "code",
   "execution_count": 51,
   "id": "1661a3cc",
   "metadata": {},
   "outputs": [
    {
     "data": {
      "image/png": "[encoded data removed]",
      "text/plain": [
       "<Figure size 360x360 with 1 Axes>"
      ]
     },
     "metadata": {},
     "output_type": "display_data"
    }
   ],
   "source": [
    "# cpi distribution with histogram\n",
    "sns.displot(df, x = 'cpi', bins = 30)\n",
    "\n",
    "plt.xlabel(\"Consumer Price Index\", size=10)\n",
    "#plt.ylabel(\"Count\", size=10)\n",
    "plt.title('CPI Distribution is Left Skewed')\n",
    "\n",
    "plt.show()"
   ]
  },
  {
   "cell_type": "code",
   "execution_count": 11,
   "id": "886ed412",
   "metadata": {},
   "outputs": [
    {
     "data": {
      "text/html": [
       "<div>\n",
       "<style scoped>\n",
       "    .dataframe tbody tr th:only-of-type {\n",
       "        vertical-align: middle;\n",
       "    }\n",
       "\n",
       "    .dataframe tbody tr th {\n",
       "        vertical-align: top;\n",
       "    }\n",
       "\n",
       "    .dataframe thead th {\n",
       "        text-align: right;\n",
       "    }\n",
       "</style>\n",
       "<table border=\"1\" class=\"dataframe\">\n",
       "  <thead>\n",
       "    <tr style=\"text-align: right;\">\n",
       "      <th></th>\n",
       "      <th>cpi</th>\n",
       "    </tr>\n",
       "  </thead>\n",
       "  <tbody>\n",
       "    <tr>\n",
       "      <th>count</th>\n",
       "      <td>1303.000000</td>\n",
       "    </tr>\n",
       "    <tr>\n",
       "      <th>mean</th>\n",
       "      <td>82.638309</td>\n",
       "    </tr>\n",
       "    <tr>\n",
       "      <th>std</th>\n",
       "      <td>80.369187</td>\n",
       "    </tr>\n",
       "    <tr>\n",
       "      <th>min</th>\n",
       "      <td>9.700000</td>\n",
       "    </tr>\n",
       "    <tr>\n",
       "      <th>25%</th>\n",
       "      <td>17.450000</td>\n",
       "    </tr>\n",
       "    <tr>\n",
       "      <th>50%</th>\n",
       "      <td>33.100000</td>\n",
       "    </tr>\n",
       "    <tr>\n",
       "      <th>75%</th>\n",
       "      <td>147.750000</td>\n",
       "    </tr>\n",
       "    <tr>\n",
       "      <th>max</th>\n",
       "      <td>273.003000</td>\n",
       "    </tr>\n",
       "  </tbody>\n",
       "</table>\n",
       "</div>"
      ],
      "text/plain": [
       "               cpi\n",
       "count  1303.000000\n",
       "mean     82.638309\n",
       "std      80.369187\n",
       "min       9.700000\n",
       "25%      17.450000\n",
       "50%      33.100000\n",
       "75%     147.750000\n",
       "max     273.003000"
      ]
     },
     "execution_count": 11,
     "metadata": {},
     "output_type": "execute_result"
    }
   ],
   "source": [
    "# descriptive stats quick glance\n",
    "df.describe()"
   ]
  },
  {
   "cell_type": "markdown",
   "id": "ff0974a7",
   "metadata": {},
   "source": [
    "### Which measure best captures the central point in the data?"
   ]
  },
  {
   "cell_type": "code",
   "execution_count": 26,
   "id": "480dfda6",
   "metadata": {},
   "outputs": [
    {
     "name": "stdout",
     "output_type": "stream",
     "text": [
      "Mean: 82.6\n",
      "Median: 33.1\n"
     ]
    }
   ],
   "source": [
    "print(f'Mean: {round(df.cpi.mean(), 1)}')\n",
    "print(f'Median: {round(df.cpi.median(), 1)}')"
   ]
  },
  {
   "cell_type": "code",
   "execution_count": 94,
   "id": "3e91008c",
   "metadata": {},
   "outputs": [
    {
     "data": {
      "image/png": "[encoded data removed]",
      "text/plain": [
       "<Figure size 360x360 with 1 Axes>"
      ]
     },
     "metadata": {},
     "output_type": "display_data"
    }
   ],
   "source": [
    "# cpi distribution with histogram\n",
    "sns.displot(df, x = 'cpi', bins = 30)\n",
    "\n",
    "\n",
    "plt.xlabel(\"Consumer Price Index\", size=10)\n",
    "#plt.ylabel(\"Count\", size=10)\n",
    "plt.title('Median is a Better Measure of the Center for Skewed Data')\n",
    "\n",
    "plt.axvline(x = df.cpi.mean(),\n",
    "            color = 'grey',\n",
    "            ls = '--', \n",
    "            lw = 2.5)\n",
    "\n",
    "plt.axvline(x = df.cpi.median(),\n",
    "            color = 'orange',\n",
    "            ls = '--', \n",
    "            lw = 2.5)\n",
    "\n",
    "plt.text(90, 250, f\"Mean:\\n{round(df.cpi.mean())}\", horizontalalignment='left', size='large', color='grey', weight='semibold')\n",
    "plt.text(38, 250, f\"Median:\\n {round(df.cpi.median())}\", horizontalalignment='left', size='large', color='orange', weight='semibold')\n",
    "\n",
    "plt.savefig('cpi_hist_ref_lines.png', dpi = 300)\n",
    "\n",
    "plt.show()"
   ]
  },
  {
   "cell_type": "code",
   "execution_count": 73,
   "id": "9c360ae4",
   "metadata": {},
   "outputs": [
    {
     "data": {
      "text/plain": [
       "'01-12-2020'"
      ]
     },
     "execution_count": 73,
     "metadata": {},
     "output_type": "execute_result"
    }
   ],
   "source": [
    "df.date.max()"
   ]
  },
  {
   "cell_type": "code",
   "execution_count": 74,
   "id": "bafa4e42",
   "metadata": {},
   "outputs": [
    {
     "data": {
      "text/plain": [
       "'01-01-1913'"
      ]
     },
     "execution_count": 74,
     "metadata": {},
     "output_type": "execute_result"
    }
   ],
   "source": [
    "df.date.min()"
   ]
  },
  {
   "cell_type": "code",
   "execution_count": 76,
   "id": "d478f186",
   "metadata": {},
   "outputs": [
    {
     "name": "stdout",
     "output_type": "stream",
     "text": [
      "<class 'pandas.core.frame.DataFrame'>\n",
      "RangeIndex: 1303 entries, 0 to 1302\n",
      "Data columns (total 2 columns):\n",
      " #   Column  Non-Null Count  Dtype  \n",
      "---  ------  --------------  -----  \n",
      " 0   date    1303 non-null   object \n",
      " 1   cpi     1303 non-null   float64\n",
      "dtypes: float64(1), object(1)\n",
      "memory usage: 20.5+ KB\n"
     ]
    }
   ],
   "source": [
    "df.info()"
   ]
  },
  {
   "cell_type": "code",
   "execution_count": 90,
   "id": "12dbf973",
   "metadata": {},
   "outputs": [
    {
     "name": "stdout",
     "output_type": "stream",
     "text": [
      "0      1913-01-01\n",
      "1      1913-01-02\n",
      "2      1913-01-03\n",
      "3      1913-01-04\n",
      "4      1913-01-05\n",
      "          ...    \n",
      "1298   2021-01-03\n",
      "1299   2021-01-04\n",
      "1300   2021-01-05\n",
      "1301   2021-01-06\n",
      "1302   2021-01-07\n",
      "Name: date, Length: 1303, dtype: datetime64[ns]\n"
     ]
    }
   ],
   "source": [
    "print(pd.to_datetime(df.date))"
   ]
  },
  {
   "cell_type": "code",
   "execution_count": null,
   "id": "651dacba",
   "metadata": {},
   "outputs": [],
   "source": []
  }
 ],
 "metadata": {
  "kernelspec": {
   "display_name": "Python 3",
   "language": "python",
   "name": "python3"
  },
  "language_info": {
   "codemirror_mode": {
    "name": "ipython",
    "version": 3
   },
   "file_extension": ".py",
   "mimetype": "text/x-python",
   "name": "python",
   "nbconvert_exporter": "python",
   "pygments_lexer": "ipython3",
   "version": "3.8.8"
  }
 },
 "nbformat": 4,
 "nbformat_minor": 5
}
